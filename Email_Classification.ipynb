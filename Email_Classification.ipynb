{
  "metadata": {
    "kernelspec": {
      "language": "python",
      "display_name": "Python 3",
      "name": "python3"
    },
    "language_info": {
      "name": "python",
      "version": "3.10.13",
      "mimetype": "text/x-python",
      "codemirror_mode": {
        "name": "ipython",
        "version": 3
      },
      "pygments_lexer": "ipython3",
      "nbconvert_exporter": "python",
      "file_extension": ".py"
    },
    "kaggle": {
      "accelerator": "nvidiaTeslaT4",
      "dataSources": [],
      "dockerImageVersionId": 30747,
      "isInternetEnabled": true,
      "language": "python",
      "sourceType": "notebook",
      "isGpuEnabled": true
    },
    "colab": {
      "name": "Email Classification",
      "provenance": [],
      "include_colab_link": true
    }
  },
  "nbformat_minor": 0,
  "nbformat": 4,
  "cells": [
    {
      "cell_type": "markdown",
      "metadata": {
        "id": "view-in-github",
        "colab_type": "text"
      },
      "source": [
        "<a href=\"https://colab.research.google.com/github/T-Sunm/Email-Classification/blob/main/Email_Classification.ipynb\" target=\"_parent\"><img src=\"https://colab.research.google.com/assets/colab-badge.svg\" alt=\"Open In Colab\"/></a>"
      ]
    },
    {
      "cell_type": "code",
      "source": [
        "# This Python 3 environment comes with many helpful analytics libraries installed\n",
        "# It is defined by the kaggle/python Docker image: https://github.com/kaggle/docker-python\n",
        "# For example, here's several helpful packages to load\n",
        "\n",
        "import numpy as np # linear algebra\n",
        "import pandas as pd # data processing, CSV file I/O (e.g. pd.read_csv)\n",
        "\n",
        "# Input data files are available in the read-only \"../input/\" directory\n",
        "# For example, running this (by clicking run or pressing Shift+Enter) will list all files under the input directory\n",
        "\n",
        "import os\n",
        "for dirname, _, filenames in os.walk('/kaggle/input'):\n",
        "    for filename in filenames:\n",
        "        print(os.path.join(dirname, filename))\n",
        "\n",
        "# You can write up to 20GB to the current directory (/kaggle/working/) that gets preserved as output when you create a version using \"Save & Run All\"\n",
        "# You can also write temporary files to /kaggle/temp/, but they won't be saved outside of the current session"
      ],
      "metadata": {
        "_uuid": "8f2839f25d086af736a60e9eeb907d3b93b6e0e5",
        "_cell_guid": "b1076dfc-b9ad-4769-8c92-a6c4dae69d19",
        "execution": {
          "iopub.status.busy": "2024-08-08T13:37:13.405034Z",
          "iopub.execute_input": "2024-08-08T13:37:13.405842Z",
          "iopub.status.idle": "2024-08-08T13:37:14.627226Z",
          "shell.execute_reply.started": "2024-08-08T13:37:13.405802Z",
          "shell.execute_reply": "2024-08-08T13:37:14.626265Z"
        },
        "trusted": true,
        "id": "unXwNSbVhVhM"
      },
      "execution_count": null,
      "outputs": []
    },
    {
      "cell_type": "code",
      "source": [
        "! pip install gdown\n"
      ],
      "metadata": {
        "execution": {
          "iopub.status.busy": "2024-08-08T13:37:14.629491Z",
          "iopub.execute_input": "2024-08-08T13:37:14.629963Z",
          "iopub.status.idle": "2024-08-08T13:37:29.211202Z",
          "shell.execute_reply.started": "2024-08-08T13:37:14.62993Z",
          "shell.execute_reply": "2024-08-08T13:37:29.210102Z"
        },
        "trusted": true,
        "id": "-c1ki1v2hVhN",
        "outputId": "396e97e0-26a5-4a34-f51d-1606dd1c8ed3"
      },
      "execution_count": null,
      "outputs": [
        {
          "name": "stdout",
          "text": "Collecting gdown\n  Downloading gdown-5.2.0-py3-none-any.whl.metadata (5.8 kB)\nRequirement already satisfied: beautifulsoup4 in /opt/conda/lib/python3.10/site-packages (from gdown) (4.12.2)\nRequirement already satisfied: filelock in /opt/conda/lib/python3.10/site-packages (from gdown) (3.13.1)\nRequirement already satisfied: requests[socks] in /opt/conda/lib/python3.10/site-packages (from gdown) (2.32.3)\nRequirement already satisfied: tqdm in /opt/conda/lib/python3.10/site-packages (from gdown) (4.66.4)\nRequirement already satisfied: soupsieve>1.2 in /opt/conda/lib/python3.10/site-packages (from beautifulsoup4->gdown) (2.5)\nRequirement already satisfied: charset-normalizer<4,>=2 in /opt/conda/lib/python3.10/site-packages (from requests[socks]->gdown) (3.3.2)\nRequirement already satisfied: idna<4,>=2.5 in /opt/conda/lib/python3.10/site-packages (from requests[socks]->gdown) (3.6)\nRequirement already satisfied: urllib3<3,>=1.21.1 in /opt/conda/lib/python3.10/site-packages (from requests[socks]->gdown) (1.26.18)\nRequirement already satisfied: certifi>=2017.4.17 in /opt/conda/lib/python3.10/site-packages (from requests[socks]->gdown) (2024.7.4)\nRequirement already satisfied: PySocks!=1.5.7,>=1.5.6 in /opt/conda/lib/python3.10/site-packages (from requests[socks]->gdown) (1.7.1)\nDownloading gdown-5.2.0-py3-none-any.whl (18 kB)\nInstalling collected packages: gdown\nSuccessfully installed gdown-5.2.0\n",
          "output_type": "stream"
        }
      ]
    },
    {
      "cell_type": "code",
      "source": [
        "import string\n",
        "import nltk\n",
        "nltk.download('stopwords')\n",
        "nltk.download('punkt')\n",
        "import pandas as pd\n",
        "import numpy as np\n",
        "import matplotlib.pyplot as plt\n",
        "from sklearn.model_selection import train_test_split\n",
        "from sklearn.naive_bayes import GaussianNB\n",
        "from sklearn.metrics import accuracy_score\n",
        "from sklearn.preprocessing import LabelEncoder\n",
        "import gdown"
      ],
      "metadata": {
        "execution": {
          "iopub.status.busy": "2024-08-08T13:37:29.212796Z",
          "iopub.execute_input": "2024-08-08T13:37:29.213171Z",
          "iopub.status.idle": "2024-08-08T13:37:30.962284Z",
          "shell.execute_reply.started": "2024-08-08T13:37:29.213133Z",
          "shell.execute_reply": "2024-08-08T13:37:30.961447Z"
        },
        "trusted": true,
        "id": "TGqVAU4UhVhN",
        "outputId": "b261459d-f44f-4529-ae62-8c9446111b97"
      },
      "execution_count": null,
      "outputs": [
        {
          "name": "stdout",
          "text": "[nltk_data] Downloading package stopwords to /usr/share/nltk_data...\n[nltk_data]   Package stopwords is already up-to-date!\n[nltk_data] Downloading package punkt to /usr/share/nltk_data...\n[nltk_data]   Package punkt is already up-to-date!\n",
          "output_type": "stream"
        }
      ]
    },
    {
      "cell_type": "code",
      "source": [
        "!gdown --id 1N7rk-kfnDFIGMeX0ROVTjKh71gcgx-7R"
      ],
      "metadata": {
        "execution": {
          "iopub.status.busy": "2024-08-08T13:37:30.963499Z",
          "iopub.execute_input": "2024-08-08T13:37:30.963902Z",
          "iopub.status.idle": "2024-08-08T13:37:35.87071Z",
          "shell.execute_reply.started": "2024-08-08T13:37:30.963877Z",
          "shell.execute_reply": "2024-08-08T13:37:35.869776Z"
        },
        "trusted": true,
        "id": "YNimBmUlhVhO",
        "outputId": "f63ca8ec-e792-4684-f3cc-3fae5d66b4ca"
      },
      "execution_count": null,
      "outputs": [
        {
          "name": "stdout",
          "text": "/opt/conda/lib/python3.10/site-packages/gdown/__main__.py:140: FutureWarning: Option `--id` was deprecated in version 4.3.1 and will be removed in 5.0. You don't need to pass it anymore to use a file ID.\n  warnings.warn(\nDownloading...\nFrom: https://drive.google.com/uc?id=1N7rk-kfnDFIGMeX0ROVTjKh71gcgx-7R\nTo: /kaggle/working/2cls_spam_text_cls.csv\n100%|████████████████████████████████████████| 486k/486k [00:00<00:00, 94.8MB/s]\n",
          "output_type": "stream"
        }
      ]
    },
    {
      "cell_type": "code",
      "source": [
        "DATASET_PATH = \"/kaggle/working/2cls_spam_text_cls.csv\"\n",
        "df = pd.read_csv(DATASET_PATH)\n",
        "df"
      ],
      "metadata": {
        "execution": {
          "iopub.status.busy": "2024-08-08T13:37:35.873644Z",
          "iopub.execute_input": "2024-08-08T13:37:35.873938Z",
          "iopub.status.idle": "2024-08-08T13:37:35.919109Z",
          "shell.execute_reply.started": "2024-08-08T13:37:35.873908Z",
          "shell.execute_reply": "2024-08-08T13:37:35.918252Z"
        },
        "trusted": true,
        "id": "ObjC2aWJhVhO",
        "outputId": "2c4bb0d8-5928-4942-b20e-e4895347bb28"
      },
      "execution_count": null,
      "outputs": [
        {
          "execution_count": 5,
          "output_type": "execute_result",
          "data": {
            "text/plain": "     Category                                            Message\n0         ham  Go until jurong point, crazy.. Available only ...\n1         ham                      Ok lar... Joking wif u oni...\n2        spam  Free entry in 2 a wkly comp to win FA Cup fina...\n3         ham  U dun say so early hor... U c already then say...\n4         ham  Nah I don't think he goes to usf, he lives aro...\n...       ...                                                ...\n5567     spam  This is the 2nd time we have tried 2 contact u...\n5568      ham               Will ü b going to esplanade fr home?\n5569      ham  Pity, * was in mood for that. So...any other s...\n5570      ham  The guy did some bitching but I acted like i'd...\n5571      ham                         Rofl. Its true to its name\n\n[5572 rows x 2 columns]",
            "text/html": "<div>\n<style scoped>\n    .dataframe tbody tr th:only-of-type {\n        vertical-align: middle;\n    }\n\n    .dataframe tbody tr th {\n        vertical-align: top;\n    }\n\n    .dataframe thead th {\n        text-align: right;\n    }\n</style>\n<table border=\"1\" class=\"dataframe\">\n  <thead>\n    <tr style=\"text-align: right;\">\n      <th></th>\n      <th>Category</th>\n      <th>Message</th>\n    </tr>\n  </thead>\n  <tbody>\n    <tr>\n      <th>0</th>\n      <td>ham</td>\n      <td>Go until jurong point, crazy.. Available only ...</td>\n    </tr>\n    <tr>\n      <th>1</th>\n      <td>ham</td>\n      <td>Ok lar... Joking wif u oni...</td>\n    </tr>\n    <tr>\n      <th>2</th>\n      <td>spam</td>\n      <td>Free entry in 2 a wkly comp to win FA Cup fina...</td>\n    </tr>\n    <tr>\n      <th>3</th>\n      <td>ham</td>\n      <td>U dun say so early hor... U c already then say...</td>\n    </tr>\n    <tr>\n      <th>4</th>\n      <td>ham</td>\n      <td>Nah I don't think he goes to usf, he lives aro...</td>\n    </tr>\n    <tr>\n      <th>...</th>\n      <td>...</td>\n      <td>...</td>\n    </tr>\n    <tr>\n      <th>5567</th>\n      <td>spam</td>\n      <td>This is the 2nd time we have tried 2 contact u...</td>\n    </tr>\n    <tr>\n      <th>5568</th>\n      <td>ham</td>\n      <td>Will ü b going to esplanade fr home?</td>\n    </tr>\n    <tr>\n      <th>5569</th>\n      <td>ham</td>\n      <td>Pity, * was in mood for that. So...any other s...</td>\n    </tr>\n    <tr>\n      <th>5570</th>\n      <td>ham</td>\n      <td>The guy did some bitching but I acted like i'd...</td>\n    </tr>\n    <tr>\n      <th>5571</th>\n      <td>ham</td>\n      <td>Rofl. Its true to its name</td>\n    </tr>\n  </tbody>\n</table>\n<p>5572 rows × 2 columns</p>\n</div>"
          },
          "metadata": {}
        }
      ]
    },
    {
      "cell_type": "code",
      "source": [
        "messages = df['Message'].values.tolist()\n",
        "labels = df['Category'].values.tolist()\n",
        "\n",
        "print(\"messages\", messages[:5])\n",
        "print(\"\\n\")\n",
        "print(\"labels\", labels[:5])"
      ],
      "metadata": {
        "execution": {
          "iopub.status.busy": "2024-08-08T13:37:35.920061Z",
          "iopub.execute_input": "2024-08-08T13:37:35.920323Z",
          "iopub.status.idle": "2024-08-08T13:37:35.926356Z",
          "shell.execute_reply.started": "2024-08-08T13:37:35.9203Z",
          "shell.execute_reply": "2024-08-08T13:37:35.925508Z"
        },
        "trusted": true,
        "id": "l7HL9dhphVhO",
        "outputId": "5659e7b9-309c-46fc-a14e-abd2cfe85877"
      },
      "execution_count": null,
      "outputs": [
        {
          "name": "stdout",
          "text": "messages ['Go until jurong point, crazy.. Available only in bugis n great world la e buffet... Cine there got amore wat...', 'Ok lar... Joking wif u oni...', \"Free entry in 2 a wkly comp to win FA Cup final tkts 21st May 2005. Text FA to 87121 to receive entry question(std txt rate)T&C's apply 08452810075over18's\", 'U dun say so early hor... U c already then say...', \"Nah I don't think he goes to usf, he lives around here though\"]\n\n\nlabels ['ham', 'ham', 'spam', 'ham', 'ham']\n",
          "output_type": "stream"
        }
      ]
    },
    {
      "cell_type": "markdown",
      "source": [
        "# Data Preprocessing : Bag of Words"
      ],
      "metadata": {
        "id": "eXd6mGkdhVhO"
      }
    },
    {
      "cell_type": "markdown",
      "source": [
        "![image.png](attachment:bbac5891-29a5-42f1-9794-e9976c4b08f7.png)"
      ],
      "metadata": {
        "id": "y7qRo2SUhVhP"
      }
    },
    {
      "cell_type": "markdown",
      "source": [
        "## Lower case"
      ],
      "metadata": {
        "id": "UmSCV5VahVhP"
      }
    },
    {
      "cell_type": "code",
      "source": [
        "def lowercase(text:str):\n",
        "    return text.lower()\n",
        "INPUT_TEXT = \"The cat's toys are scattered everywhere!\"\n",
        "lowercase(INPUT_TEXT)"
      ],
      "metadata": {
        "execution": {
          "iopub.status.busy": "2024-08-08T13:37:35.927621Z",
          "iopub.execute_input": "2024-08-08T13:37:35.928048Z",
          "iopub.status.idle": "2024-08-08T13:37:35.938286Z",
          "shell.execute_reply.started": "2024-08-08T13:37:35.928004Z",
          "shell.execute_reply": "2024-08-08T13:37:35.937485Z"
        },
        "trusted": true,
        "id": "peXZsMoZhVhP",
        "outputId": "0f685cb6-686e-4b3d-d766-5e2a35eb60bc"
      },
      "execution_count": null,
      "outputs": [
        {
          "execution_count": 7,
          "output_type": "execute_result",
          "data": {
            "text/plain": "\"the cat's toys are scattered everywhere!\""
          },
          "metadata": {}
        }
      ]
    },
    {
      "cell_type": "markdown",
      "source": [
        "## Punctuation Removal"
      ],
      "metadata": {
        "id": "QByszmU_hVhP"
      }
    },
    {
      "cell_type": "markdown",
      "source": [
        "translator = str.maketrans('', '', string.punctuation)\n",
        "- str.maketrans là một phương thức của lớp str dùng để tạo bảng dịch.\n",
        "- Tham số đầu tiên và thứ hai (cả hai là chuỗi rỗng) chỉ ra rằng không có ký tự nào được thay thế bằng ký tự khác.\n",
        "- Tham số thứ ba, string.punctuation, chứa tất cả các dấu câu. Các ký tự trong chuỗi này sẽ bị loại bỏ khi áp dụng bảng dịch này.\n"
      ],
      "metadata": {
        "id": "ev2xZ3VBhVhP"
      }
    },
    {
      "cell_type": "code",
      "source": [
        "def punctuation_removal(text):\n",
        "    translator = str.maketrans('', '', string.punctuation)\n",
        "    return text.translate(translator)\n",
        "\n",
        "INPUT_TEXT = \"The cat's toys are scattered everywhere!\"\n",
        "INPUT_TEXT = lowercase(INPUT_TEXT)\n",
        "punctuation_removal(INPUT_TEXT)"
      ],
      "metadata": {
        "execution": {
          "iopub.status.busy": "2024-08-08T13:37:35.939739Z",
          "iopub.execute_input": "2024-08-08T13:37:35.939997Z",
          "iopub.status.idle": "2024-08-08T13:37:35.949601Z",
          "shell.execute_reply.started": "2024-08-08T13:37:35.939974Z",
          "shell.execute_reply": "2024-08-08T13:37:35.948775Z"
        },
        "trusted": true,
        "id": "honI5erPhVhP",
        "outputId": "7b8a507a-3c29-449c-e50c-e3daefd128b3"
      },
      "execution_count": null,
      "outputs": [
        {
          "execution_count": 8,
          "output_type": "execute_result",
          "data": {
            "text/plain": "'the cats toys are scattered everywhere'"
          },
          "metadata": {}
        }
      ]
    },
    {
      "cell_type": "markdown",
      "source": [
        "## Tokenize"
      ],
      "metadata": {
        "id": "YBdEzB06hVhP"
      }
    },
    {
      "cell_type": "code",
      "source": [
        "def tokenize(text):\n",
        "    return text.split()\n",
        "\n",
        "INPUT_TEXT = \"The cat's toys are scattered everywhere!\"\n",
        "INPUT_TEXT = lowercase(INPUT_TEXT)\n",
        "INPUT_TEXT = punctuation_removal(INPUT_TEXT)\n",
        "tokenize(INPUT_TEXT)"
      ],
      "metadata": {
        "execution": {
          "iopub.status.busy": "2024-08-08T13:37:35.950548Z",
          "iopub.execute_input": "2024-08-08T13:37:35.950882Z",
          "iopub.status.idle": "2024-08-08T13:37:35.961178Z",
          "shell.execute_reply.started": "2024-08-08T13:37:35.950859Z",
          "shell.execute_reply": "2024-08-08T13:37:35.9603Z"
        },
        "trusted": true,
        "id": "0d5sOPDShVhQ",
        "outputId": "922e7a21-2219-493c-857b-d1990e3a05fb"
      },
      "execution_count": null,
      "outputs": [
        {
          "execution_count": 9,
          "output_type": "execute_result",
          "data": {
            "text/plain": "['the', 'cats', 'toys', 'are', 'scattered', 'everywhere']"
          },
          "metadata": {}
        }
      ]
    },
    {
      "cell_type": "markdown",
      "source": [
        "## Remove Stopword"
      ],
      "metadata": {
        "id": "rnaBA56QhVhQ"
      }
    },
    {
      "cell_type": "markdown",
      "source": [
        "trong tiếng Anh, các từ như \"the\", \"is\", \"in\", \"at\", \"of\" là các stop words. Mục tiêu của việc loại bỏ các từ này là để giảm kích thước của văn bản và tập trung vào các từ mang ý nghĩa quan trọng hơn."
      ],
      "metadata": {
        "id": "N3ZCayZYhVhQ"
      }
    },
    {
      "cell_type": "code",
      "source": [
        "def remove_stopwords(tokens):\n",
        "    stop_words = nltk.corpus.stopwords.words('english')\n",
        "    return [token for token in tokens if token not in stop_words]\n",
        "\n",
        "INPUT_TEXT = \"The cat's toys are scattered everywhere!\"\n",
        "INPUT_TEXT = lowercase(INPUT_TEXT)\n",
        "INPUT_TEXT = punctuation_removal(INPUT_TEXT)\n",
        "tokens = tokenize(INPUT_TEXT)\n",
        "remove_stopwords(tokens)"
      ],
      "metadata": {
        "execution": {
          "iopub.status.busy": "2024-08-08T13:37:35.962064Z",
          "iopub.execute_input": "2024-08-08T13:37:35.962345Z",
          "iopub.status.idle": "2024-08-08T13:37:35.979639Z",
          "shell.execute_reply.started": "2024-08-08T13:37:35.962322Z",
          "shell.execute_reply": "2024-08-08T13:37:35.978797Z"
        },
        "trusted": true,
        "id": "G5J2YH5UhVhQ",
        "outputId": "4835d66a-d645-4b56-f22b-2dff0339a9f4"
      },
      "execution_count": null,
      "outputs": [
        {
          "execution_count": 10,
          "output_type": "execute_result",
          "data": {
            "text/plain": "['cats', 'toys', 'scattered', 'everywhere']"
          },
          "metadata": {}
        }
      ]
    },
    {
      "cell_type": "markdown",
      "source": [
        "## Stemming"
      ],
      "metadata": {
        "id": "h_NomKdHhVhQ"
      }
    },
    {
      "cell_type": "markdown",
      "source": [
        "Stemming: Rút gọn các từ còn lại về dạng gốc của chúng. Trong ví dụ này, \"cats\" trở thành \"cat\", \"scattered\" trở thành \"scatter\", kết quả là [\"cat\", \"toy\", \"scatter\",\"everywhere\"]."
      ],
      "metadata": {
        "id": "4PudCacLhVhQ"
      }
    },
    {
      "cell_type": "code",
      "source": [
        "def stemming(tokens):\n",
        "    stemmer = nltk.PorterStemmer()\n",
        "    return [stemmer.stem(token) for token in tokens]\n",
        "\n",
        "INPUT_TEXT = \"The cat's toys are scattered everywhere!\"\n",
        "INPUT_TEXT = lowercase(INPUT_TEXT)\n",
        "INPUT_TEXT = punctuation_removal(INPUT_TEXT)\n",
        "tokens = tokenize(INPUT_TEXT)\n",
        "tokens = remove_stopwords(tokens)\n",
        "stemming(tokens)"
      ],
      "metadata": {
        "execution": {
          "iopub.status.busy": "2024-08-08T13:37:35.980626Z",
          "iopub.execute_input": "2024-08-08T13:37:35.9809Z",
          "iopub.status.idle": "2024-08-08T13:37:35.98912Z",
          "shell.execute_reply.started": "2024-08-08T13:37:35.980878Z",
          "shell.execute_reply": "2024-08-08T13:37:35.988178Z"
        },
        "trusted": true,
        "id": "dSYn3mFnhVhQ",
        "outputId": "719224be-6593-46a8-b09f-0f126261976c"
      },
      "execution_count": null,
      "outputs": [
        {
          "execution_count": 11,
          "output_type": "execute_result",
          "data": {
            "text/plain": "['cat', 'toy', 'scatter', 'everywher']"
          },
          "metadata": {}
        }
      ]
    },
    {
      "cell_type": "markdown",
      "source": [
        "## Final"
      ],
      "metadata": {
        "id": "upmbZTTKhVhQ"
      }
    },
    {
      "cell_type": "code",
      "source": [
        "def preprocess_text(text):\n",
        "    text = lowercase (text)\n",
        "    text = punctuation_removal(text)\n",
        "    tokens = tokenize (text)\n",
        "    tokens = remove_stopwords (tokens)\n",
        "    tokens = stemming (tokens)\n",
        "\n",
        "    return tokens\n",
        "\n",
        "INPUT_TEXT = \"The cat's toys are scattered everywhere!\"\n",
        "preprocess_text(INPUT_TEXT)"
      ],
      "metadata": {
        "execution": {
          "iopub.status.busy": "2024-08-08T13:37:35.990213Z",
          "iopub.execute_input": "2024-08-08T13:37:35.990559Z",
          "iopub.status.idle": "2024-08-08T13:37:35.99993Z",
          "shell.execute_reply.started": "2024-08-08T13:37:35.990529Z",
          "shell.execute_reply": "2024-08-08T13:37:35.999074Z"
        },
        "trusted": true,
        "id": "YaFdyAjrhVhQ",
        "outputId": "18b2ee7f-61b0-41c8-90ca-9e75b723e20a"
      },
      "execution_count": null,
      "outputs": [
        {
          "execution_count": 12,
          "output_type": "execute_result",
          "data": {
            "text/plain": "['cat', 'toy', 'scatter', 'everywher']"
          },
          "metadata": {}
        }
      ]
    },
    {
      "cell_type": "code",
      "source": [
        "messages_prep = [preprocess_text(mess) for mess in messages]\n",
        "print(messages_prep[:5])"
      ],
      "metadata": {
        "execution": {
          "iopub.status.busy": "2024-08-08T13:37:36.000956Z",
          "iopub.execute_input": "2024-08-08T13:37:36.001269Z",
          "iopub.status.idle": "2024-08-08T13:37:38.584131Z",
          "shell.execute_reply.started": "2024-08-08T13:37:36.00124Z",
          "shell.execute_reply": "2024-08-08T13:37:38.583261Z"
        },
        "trusted": true,
        "id": "_bPvcAJ9hVhQ",
        "outputId": "8148e34a-791c-40f6-bacd-b882b62b882b"
      },
      "execution_count": null,
      "outputs": [
        {
          "name": "stdout",
          "text": "[['go', 'jurong', 'point', 'crazi', 'avail', 'bugi', 'n', 'great', 'world', 'la', 'e', 'buffet', 'cine', 'got', 'amor', 'wat'], ['ok', 'lar', 'joke', 'wif', 'u', 'oni'], ['free', 'entri', '2', 'wkli', 'comp', 'win', 'fa', 'cup', 'final', 'tkt', '21st', 'may', '2005', 'text', 'fa', '87121', 'receiv', 'entri', 'questionstd', 'txt', 'ratetc', 'appli', '08452810075over18'], ['u', 'dun', 'say', 'earli', 'hor', 'u', 'c', 'alreadi', 'say'], ['nah', 'dont', 'think', 'goe', 'usf', 'live', 'around', 'though']]\n",
          "output_type": "stream"
        }
      ]
    },
    {
      "cell_type": "markdown",
      "source": [
        "# Build Vocabulary"
      ],
      "metadata": {
        "id": "_aMv4Mw-hVhR"
      }
    },
    {
      "cell_type": "code",
      "source": [
        "def create_dictionary(messages):\n",
        "    dictionary = []\n",
        "    for mess in messages:\n",
        "        for vocab in mess:\n",
        "            if vocab not in dictionary:\n",
        "                dictionary.append(vocab)\n",
        "\n",
        "    return dictionary\n",
        "\n",
        "dictionary = create_dictionary(messages_prep)\n",
        "print(np.array(dictionary).shape)"
      ],
      "metadata": {
        "execution": {
          "iopub.status.busy": "2024-08-08T13:37:38.587712Z",
          "iopub.execute_input": "2024-08-08T13:37:38.588374Z",
          "iopub.status.idle": "2024-08-08T13:37:39.675762Z",
          "shell.execute_reply.started": "2024-08-08T13:37:38.588347Z",
          "shell.execute_reply": "2024-08-08T13:37:39.674872Z"
        },
        "trusted": true,
        "id": "TZk9BQoZhVhR",
        "outputId": "195fb60f-2699-4c7d-82d8-c80a3821b675"
      },
      "execution_count": null,
      "outputs": [
        {
          "name": "stdout",
          "text": "(8190,)\n",
          "output_type": "stream"
        }
      ]
    },
    {
      "cell_type": "markdown",
      "source": [
        "# Create feature"
      ],
      "metadata": {
        "id": "CeN0-jgUhVhR"
      }
    },
    {
      "cell_type": "code",
      "source": [
        "def create_features(mess, dictionary):\n",
        "    tokenizer_mess = np.zeros(len(dictionary))\n",
        "    for vocab_mess in mess:\n",
        "        if vocab_mess in dictionary:\n",
        "            position = dictionary.index(vocab_mess)\n",
        "            tokenizer_mess[position] += 1\n",
        "\n",
        "    return tokenizer_mess\n",
        "\n",
        "X = np.array([create_features(mess, dictionary) for mess in messages_prep])\n",
        "print(X)"
      ],
      "metadata": {
        "execution": {
          "iopub.status.busy": "2024-08-08T14:20:20.150146Z",
          "iopub.execute_input": "2024-08-08T14:20:20.150826Z",
          "iopub.status.idle": "2024-08-08T14:20:23.058296Z",
          "shell.execute_reply.started": "2024-08-08T14:20:20.150792Z",
          "shell.execute_reply": "2024-08-08T14:20:23.056892Z"
        },
        "trusted": true,
        "id": "5MCyVAlDhVhR",
        "outputId": "ca01769d-e343-4cc3-f47c-3ab8c3c4dbd4"
      },
      "execution_count": null,
      "outputs": [
        {
          "name": "stdout",
          "text": "[[1. 1. 1. ... 0. 0. 0.]\n [0. 0. 0. ... 0. 0. 0.]\n [0. 0. 0. ... 0. 0. 0.]\n ...\n [0. 0. 0. ... 0. 1. 1.]\n [0. 0. 0. ... 0. 0. 0.]\n [0. 0. 0. ... 0. 0. 0.]]\n",
          "output_type": "stream"
        }
      ]
    },
    {
      "cell_type": "markdown",
      "source": [
        "# Label Encoder"
      ],
      "metadata": {
        "id": "A_9IMPiOhVhR"
      }
    },
    {
      "cell_type": "code",
      "source": [
        "le = LabelEncoder()\n",
        "y = le.fit_transform(labels)\n",
        "\n",
        "print(\"Classes :\" ,le.classes_)\n",
        "print(\"Encoder Labels :\", y)"
      ],
      "metadata": {
        "execution": {
          "iopub.status.busy": "2024-08-08T13:39:59.141365Z",
          "iopub.execute_input": "2024-08-08T13:39:59.142206Z",
          "iopub.status.idle": "2024-08-08T13:39:59.152165Z",
          "shell.execute_reply.started": "2024-08-08T13:39:59.142175Z",
          "shell.execute_reply": "2024-08-08T13:39:59.15115Z"
        },
        "trusted": true,
        "id": "hTFDGsFqhVhR",
        "outputId": "6f00cdc5-b377-4531-aee8-1395fe079cc9"
      },
      "execution_count": null,
      "outputs": [
        {
          "name": "stdout",
          "text": "Classes : ['ham' 'spam']\nEncoder Labels : [0 0 1 ... 0 0 0]\n",
          "output_type": "stream"
        }
      ]
    },
    {
      "cell_type": "markdown",
      "source": [
        "# Split train, test"
      ],
      "metadata": {
        "id": "qJnnoTskhVhR"
      }
    },
    {
      "cell_type": "markdown",
      "source": [
        "### Chia dữ liệu theo tỷ lệ 7/2/1 (train /val /test)\n",
        "Dữ liệu ban đầu có 1000 mẫu\n",
        "- Tập huấn luyện và xác thực:\n",
        "    - Số lượng mẫu của tập xác thực (X_val, y_val) = 1000 * 0.2 = 200 mẫu.\n",
        "    - Số lượng mẫu của tập huấn luyện ban đầu = 1000 * 0.8 = 800 mẫu.\n",
        "- Tập huấn luyện cuối cùng và tập kiểm tra:\n",
        "    - Số lượng mẫu của tập kiểm tra (X_test, y_test) = 800 * 0.125 = 100 mẫu.\n",
        "    - Số lượng mẫu của tập huấn luyện cuối cùng (X_train, y_train) = 800 * 0.875 = 700 mẫu."
      ],
      "metadata": {
        "id": "vWQ4IBKmhVhR"
      }
    },
    {
      "cell_type": "code",
      "source": [
        "VAL_SIZE = 0.2\n",
        "VAL_TEST = 0.125\n",
        "SEED = 0\n",
        "IS_SHUFFLE = True\n",
        "\n",
        "X_train, X_val, y_train, y_val = train_test_split(\n",
        "    X,y,\n",
        "    test_size = VAL_SIZE,\n",
        "    shuffle = IS_SHUFFLE,\n",
        "    random_state = SEED\n",
        ")\n",
        "\n",
        "X_train, X_test, y_train, y_test = train_test_split(\n",
        "    X_train,y_train,\n",
        "    test_size = VAL_TEST,\n",
        "    shuffle = IS_SHUFFLE,\n",
        "    random_state = SEED\n",
        ")\n",
        "\n",
        "print(f'Number of training samples: {X_train.shape[0]}')\n",
        "print(f'Number of val samples: {X_val.shape[0]}')\n",
        "print(f'Number of test samples: {X_test.shape[0]}')"
      ],
      "metadata": {
        "execution": {
          "iopub.status.busy": "2024-08-08T13:56:31.678894Z",
          "iopub.execute_input": "2024-08-08T13:56:31.679557Z",
          "iopub.status.idle": "2024-08-08T13:56:31.875292Z",
          "shell.execute_reply.started": "2024-08-08T13:56:31.679524Z",
          "shell.execute_reply": "2024-08-08T13:56:31.874372Z"
        },
        "trusted": true,
        "id": "0Bg9LHc0hVhR",
        "outputId": "13712b38-a0e8-4001-ec14-a35954547a11"
      },
      "execution_count": null,
      "outputs": [
        {
          "name": "stdout",
          "text": "Number of training samples: 3899\nNumber of val samples: 1115\nNumber of test samples: 558\n",
          "output_type": "stream"
        }
      ]
    },
    {
      "cell_type": "markdown",
      "source": [
        "# Train model"
      ],
      "metadata": {
        "id": "34O1t-HIhVhR"
      }
    },
    {
      "cell_type": "code",
      "source": [
        "%%time\n",
        "\n",
        "model = GaussianNB()\n",
        "print(\"start training ...\")\n",
        "model = model.fit(X_train, y_train)\n",
        "print(\"Training completed\")"
      ],
      "metadata": {
        "execution": {
          "iopub.status.busy": "2024-08-08T14:06:12.418507Z",
          "iopub.execute_input": "2024-08-08T14:06:12.419131Z",
          "iopub.status.idle": "2024-08-08T14:06:12.860297Z",
          "shell.execute_reply.started": "2024-08-08T14:06:12.419088Z",
          "shell.execute_reply": "2024-08-08T14:06:12.859084Z"
        },
        "trusted": true,
        "id": "va9awjpwhVhR",
        "outputId": "45af3c38-88ca-4b37-ab97-d11a4a9f71e5"
      },
      "execution_count": null,
      "outputs": [
        {
          "name": "stdout",
          "text": "start training ...\nTraining completed\nCPU times: user 309 ms, sys: 125 ms, total: 435 ms\nWall time: 436 ms\n",
          "output_type": "stream"
        }
      ]
    },
    {
      "cell_type": "markdown",
      "source": [
        "# Evaluation"
      ],
      "metadata": {
        "id": "PHPhiE4UhVhR"
      }
    },
    {
      "cell_type": "code",
      "source": [
        "y_val_pred = model.predict(X_val)\n",
        "y_test_pred = model.predict(X_test)\n",
        "val_accurancy = accuracy_score(y_val, y_val_pred)\n",
        "test_accurancy = accuracy_score(y_test, y_test_pred)\n",
        "\n",
        "print(\"Độ chính xác validation gốc - validation predict\", val_accurancy)\n",
        "print(\"Độ chính xác test gốc - test predict\", val_accurancy)"
      ],
      "metadata": {
        "execution": {
          "iopub.status.busy": "2024-08-08T14:14:10.37953Z",
          "iopub.execute_input": "2024-08-08T14:14:10.380381Z",
          "iopub.status.idle": "2024-08-08T14:14:10.554521Z",
          "shell.execute_reply.started": "2024-08-08T14:14:10.380336Z",
          "shell.execute_reply": "2024-08-08T14:14:10.553522Z"
        },
        "trusted": true,
        "id": "hm3Hx3COhVhS",
        "outputId": "e48730aa-74dc-4707-f829-0d17fd72c22d"
      },
      "execution_count": null,
      "outputs": [
        {
          "name": "stdout",
          "text": "Độ chính xác validation gốc - validation predict 0.8816143497757848\nĐộ chính xác test gốc - test predict 0.8816143497757848\n",
          "output_type": "stream"
        }
      ]
    },
    {
      "cell_type": "markdown",
      "source": [
        "# Prediction"
      ],
      "metadata": {
        "id": "cRcpSZKyhVhS"
      }
    },
    {
      "cell_type": "code",
      "source": [
        "def predict(text, model, dictionary):\n",
        "    prep_text = preprocess_text(text)\n",
        "\n",
        "#     reshape vì quy chuẩn của sklearn bắt buộc vậy\n",
        "    x = create_features(prep_text, dictionary).reshape(1, -1)\n",
        "    y = model.predict(x)\n",
        "    print(y)\n",
        "\n",
        "    y_cls = le.inverse_transform(y)\n",
        "    return y_cls\n",
        "\n",
        "test_input = 'I am actually thinking a way of doing something useful'\n",
        "prediction_cls = predict(test_input, model, dictionary)\n",
        "print(f'Prediction: {prediction_cls}')"
      ],
      "metadata": {
        "execution": {
          "iopub.status.busy": "2024-08-08T14:25:59.956874Z",
          "iopub.execute_input": "2024-08-08T14:25:59.957628Z",
          "iopub.status.idle": "2024-08-08T14:25:59.966856Z",
          "shell.execute_reply.started": "2024-08-08T14:25:59.957596Z",
          "shell.execute_reply": "2024-08-08T14:25:59.96587Z"
        },
        "trusted": true,
        "id": "lxxk9-mFhVhS",
        "outputId": "8167409d-32df-43e7-fec3-c6c34c4bd179"
      },
      "execution_count": null,
      "outputs": [
        {
          "name": "stdout",
          "text": "[0]\nPrediction: ['ham']\n",
          "output_type": "stream"
        }
      ]
    }
  ]
}